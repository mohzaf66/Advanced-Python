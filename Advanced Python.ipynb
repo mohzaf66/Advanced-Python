{
 "cells": [
  {
   "cell_type": "markdown",
   "id": "1d1772fa",
   "metadata": {},
   "source": [
    "# List in Python\n",
    "#### A List is can be defined as the collection of objects, values or items of different types and these collections are enclosed within square brackets[] and separated by commas(,). Index starts from 0 in Lists.\n",
    "#### Example: List1 = [1, Adam, 103, USA]\n",
    "## Characteristics of List\n",
    "#### - Lists are ordered.\n",
    "#### - Lists can store various types of elements.\n",
    "#### - Elements of list can be accessed by the index value.\n",
    "#### - Lists are muteable.\n",
    "#### - Lists allow duplicate elements."
   ]
  },
  {
   "cell_type": "markdown",
   "id": "807911a1",
   "metadata": {},
   "source": [
    "## Methods of List"
   ]
  },
  {
   "cell_type": "code",
   "execution_count": 27,
   "id": "0ecd82ed",
   "metadata": {},
   "outputs": [
    {
     "name": "stdout",
     "output_type": "stream",
     "text": [
      "Output of append method:  [1, 2, 3, 4, 5, 2]\n"
     ]
    }
   ],
   "source": [
    "List1 = [1,2,3,4,5]\n",
    "List2 = [6,7,8,9]\n",
    "\n",
    "#Append - It adds the element at the end of the list.\n",
    "# List1.append(element)\n",
    "List1.append(2)\n",
    "print(\"Output of append method: \" , List1)"
   ]
  },
  {
   "cell_type": "code",
   "execution_count": 28,
   "id": "14e3629a",
   "metadata": {},
   "outputs": [
    {
     "name": "stdout",
     "output_type": "stream",
     "text": [
      "Output of insert method:  [1, 2, 3, 4, 10, 5, 2]\n"
     ]
    }
   ],
   "source": [
    "#Insert - It adds the element at the specified location.\n",
    "# List1.insert(index, element)\n",
    "List1.insert(4,10)\n",
    "print(\"Output of insert method: \" , List1)"
   ]
  },
  {
   "cell_type": "code",
   "execution_count": 29,
   "id": "a560f7e3",
   "metadata": {},
   "outputs": [
    {
     "name": "stdout",
     "output_type": "stream",
     "text": [
      "Output of extend method:  [1, 2, 3, 4, 10, 5, 2, 6, 7, 8, 9]\n"
     ]
    }
   ],
   "source": [
    "#Extend - It extends another list at the end of a list.\n",
    "# List1.extend(List2)\n",
    "List1.extend(List2)\n",
    "print(\"Output of extend method: \" , List1)"
   ]
  },
  {
   "cell_type": "code",
   "execution_count": 30,
   "id": "cc1a6d25",
   "metadata": {},
   "outputs": [
    {
     "name": "stdout",
     "output_type": "stream",
     "text": [
      "Output of index method:  4\n"
     ]
    }
   ],
   "source": [
    "#Index - It extends another list at the end of a list.\n",
    "# List1.index(element)\n",
    "x= List1.index(10)\n",
    "print(\"Output of index method: \" , x)"
   ]
  },
  {
   "cell_type": "code",
   "execution_count": 31,
   "id": "aba76654",
   "metadata": {},
   "outputs": [
    {
     "name": "stdout",
     "output_type": "stream",
     "text": [
      "Output of remove method:  [1, 2, 3, 4, 5, 2, 6, 7, 8, 9]\n"
     ]
    }
   ],
   "source": [
    "#Remove -  It removes the element from the list.\n",
    "# List1.index(element)\n",
    "List1.remove(10)\n",
    "print(\"Output of remove method: \" , List1)"
   ]
  },
  {
   "cell_type": "code",
   "execution_count": 32,
   "id": "c191849a",
   "metadata": {},
   "outputs": [
    {
     "name": "stdout",
     "output_type": "stream",
     "text": [
      "Output of sort method:  [1, 2, 2, 3, 4, 5, 6, 7, 8, 9]\n"
     ]
    }
   ],
   "source": [
    "#Sort -  It sorts the elements of the list in ascending order.\n",
    "# List1.sort()\n",
    "List1.sort()\n",
    "print(\"Output of sort method: \" , List1)"
   ]
  },
  {
   "cell_type": "code",
   "execution_count": 33,
   "id": "4241eefb",
   "metadata": {},
   "outputs": [
    {
     "name": "stdout",
     "output_type": "stream",
     "text": [
      "Output of reverse method:  [9, 8, 7, 6, 5, 4, 3, 2, 2, 1]\n"
     ]
    }
   ],
   "source": [
    "#Reverse -  It reverses the order of the list.\n",
    "# List1.reverse()\n",
    "List1.reverse()\n",
    "print(\"Output of reverse method: \" , List1)"
   ]
  },
  {
   "cell_type": "code",
   "execution_count": 34,
   "id": "e7ddf575",
   "metadata": {},
   "outputs": [
    {
     "name": "stdout",
     "output_type": "stream",
     "text": [
      "Output:  4\n"
     ]
    }
   ],
   "source": [
    "#Access element of list in a list\n",
    "List3 = ['apple', 'banana', [2, 4, 5], 'orange']\n",
    "# List3[Location in Parent List][Location is Child List]\n",
    "print(\"Output: \", List3[2][1])"
   ]
  },
  {
   "cell_type": "code",
   "execution_count": 35,
   "id": "9b865ab4",
   "metadata": {},
   "outputs": [
    {
     "name": "stdout",
     "output_type": "stream",
     "text": [
      "Element at Location -1:  orange\n"
     ]
    }
   ],
   "source": [
    "#Reverse Indexing of element - Reverse indexing starts from -1 from right side.\n",
    "print(\"Element at Location -1: \", List3[-1])"
   ]
  },
  {
   "cell_type": "code",
   "execution_count": 36,
   "id": "eaf759f8",
   "metadata": {},
   "outputs": [
    {
     "name": "stdout",
     "output_type": "stream",
     "text": [
      "Elements from index 1 to 3:  ['banana', [2, 4, 5]]\n"
     ]
    }
   ],
   "source": [
    "#Slicing Operater in List - it returns all the elements from index x1 to xn but not xn.\n",
    "# List3[x1:xn]\n",
    "print(\"Elements from index 1 to 3: \", List3[1:3])"
   ]
  },
  {
   "cell_type": "code",
   "execution_count": 37,
   "id": "ba00716a",
   "metadata": {},
   "outputs": [
    {
     "name": "stdout",
     "output_type": "stream",
     "text": [
      "Delete element at index 2 from the list:  [1, 2]\n"
     ]
    }
   ],
   "source": [
    "# Delete element from the list\n",
    "List = [1, 2, \"apple\"]\n",
    "# del List[index]\n",
    "del List[2]\n",
    "print(\"Delete element at index 2 from the list: \", List)"
   ]
  },
  {
   "cell_type": "code",
   "execution_count": 38,
   "id": "1e09b6f7",
   "metadata": {},
   "outputs": [
    {
     "name": "stdout",
     "output_type": "stream",
     "text": [
      "[1, 2]\n"
     ]
    }
   ],
   "source": [
    "# Pop - Pop also removes element from the list.\n",
    "List = [1,2,3]\n",
    "# List.pop(index)\n",
    "List.pop(2)\n",
    "print(List)"
   ]
  },
  {
   "cell_type": "code",
   "execution_count": 39,
   "id": "a9752243",
   "metadata": {},
   "outputs": [
    {
     "name": "stdout",
     "output_type": "stream",
     "text": [
      "[]\n"
     ]
    }
   ],
   "source": [
    "# Clear - Clear removes all the elements from the list.\n",
    "List = [1, 2, 3, 4]\n",
    "List.clear()\n",
    "print(List)"
   ]
  },
  {
   "cell_type": "code",
   "execution_count": 40,
   "id": "89c03dc6",
   "metadata": {},
   "outputs": [
    {
     "name": "stdout",
     "output_type": "stream",
     "text": [
      "3\n"
     ]
    }
   ],
   "source": [
    "# Count - it tells the number of occurrences in the list.\n",
    "List = [1,2,3,4,5,5,5]\n",
    "print(List.count(5))"
   ]
  },
  {
   "cell_type": "markdown",
   "id": "5fa1f7a6",
   "metadata": {},
   "source": [
    "# Tuple\n",
    "#### A tuple is defined as the collection of values, objects or items of different types and these collections are enclosed within circle brackets() and separated by (,). \n",
    "#### Example: tup1 = (1,'richard', 33, 'UK')\n",
    "\n",
    "#### Tuple forward starts with 0 and reverse index starts with -1.\n",
    "\n",
    "## Characteristics of Tuple\n",
    "#### - Tuple are ordered.\n",
    "#### - Tuple can store various types of elements.\n",
    "#### - Elements of tuple can be accessed by the index value.\n",
    "#### - Tuples are immuteable.\n",
    "#### - Tuple allows duplicate elements.\n"
   ]
  },
  {
   "cell_type": "markdown",
   "id": "8a0c56c7",
   "metadata": {},
   "source": [
    "## Methods in Tuple"
   ]
  },
  {
   "cell_type": "code",
   "execution_count": 41,
   "id": "eef6d3f1",
   "metadata": {},
   "outputs": [
    {
     "name": "stdout",
     "output_type": "stream",
     "text": [
      "2\n"
     ]
    }
   ],
   "source": [
    "# Index - it tells the index of the element\n",
    "# tup.index(element)\n",
    "tup = (1,2,3,4)\n",
    "print(tup.index(3))"
   ]
  },
  {
   "cell_type": "code",
   "execution_count": 42,
   "id": "4eedd39a",
   "metadata": {},
   "outputs": [
    {
     "name": "stdout",
     "output_type": "stream",
     "text": [
      "Elements from index 1 to 3:  (2, 3)\n"
     ]
    }
   ],
   "source": [
    "#Slicing Operater in Tuple - it returns all the elements from index x1 to xn but not xn.\n",
    "# tup(x1:xn)\n",
    "print(\"Elements from index 1 to 3: \", tup[1:3])"
   ]
  },
  {
   "cell_type": "code",
   "execution_count": 43,
   "id": "1f3b09d7",
   "metadata": {},
   "outputs": [
    {
     "name": "stdout",
     "output_type": "stream",
     "text": [
      "Concatenation:  (1, 2, 3, 4, 5, 6, 7, 8)\n"
     ]
    }
   ],
   "source": [
    "# Concatenation - It adds two tuples.\n",
    "tup1 = (1,2,3,4)\n",
    "tup2 = (5,6,7,8)\n",
    "print(\"Concatenation: \", tup1 + tup2)"
   ]
  },
  {
   "cell_type": "code",
   "execution_count": 44,
   "id": "24c28fcb",
   "metadata": {},
   "outputs": [
    {
     "name": "stdout",
     "output_type": "stream",
     "text": [
      "Repetition:  (1, 2, 3, 1, 2, 3, 1, 2, 3)\n"
     ]
    }
   ],
   "source": [
    "# Repetition - It is the multiplication of the tuple with x number.\n",
    "tup = (1,2,3)\n",
    "print(\"Repetition: \", tup*3)"
   ]
  },
  {
   "cell_type": "code",
   "execution_count": 48,
   "id": "af33c1a8",
   "metadata": {},
   "outputs": [
    {
     "name": "stdout",
     "output_type": "stream",
     "text": [
      "1\n",
      "2\n",
      "3\n",
      "4\n",
      "5\n"
     ]
    }
   ],
   "source": [
    "# for loop in tuple\n",
    "tup = (1,2,3,4,5)\n",
    "for x in tup:\n",
    "    print(x)"
   ]
  },
  {
   "cell_type": "markdown",
   "id": "7d800a22",
   "metadata": {},
   "source": [
    "# Dictionaries \n",
    "#### Python Dictionary is defined as the collection of objects, values or items of different types stored in key-value pair format. These multiple key-value pairs created are enclosed within braces{} and each key is separated from its value by colon(:).\n",
    "#### Example: Dict1 = {'a': 1, 'b': 2, 'c': 3}\n",
    "\n",
    "## Characteristics of Dictionaries\n",
    "#### - Distionaries are ordered from python 3.7.\n",
    "#### - Elements of dictionaries cannot be accessed by index.\n",
    "#### - Dictinaries can store different types of elements.\n",
    "#### - Dictionaries are mutable.\n",
    "#### - Dictionaries doesn't allow duplicate elements.\n",
    "\n"
   ]
  },
  {
   "cell_type": "markdown",
   "id": "29ebd069",
   "metadata": {},
   "source": [
    "## Methods in Dictionaries"
   ]
  },
  {
   "cell_type": "code",
   "execution_count": 2,
   "id": "7221d00f",
   "metadata": {},
   "outputs": [
    {
     "name": "stdout",
     "output_type": "stream",
     "text": [
      "{'a': 1, 'b': 2, 'c': 3}\n",
      "None\n"
     ]
    }
   ],
   "source": [
    "# Clear - It deletes all the elements of dictionary.\n",
    "# d.clear()\n",
    "d = {'a':1, 'b':2, 'c':3}\n",
    "print(d.clear())\n"
   ]
  },
  {
   "cell_type": "code",
   "execution_count": 4,
   "id": "a1e299af",
   "metadata": {},
   "outputs": [
    {
     "name": "stdout",
     "output_type": "stream",
     "text": [
      "1\n"
     ]
    }
   ],
   "source": [
    "# Get - get method is used to access the element by value.\n",
    "# d.get(keyname)\n",
    "d = {'a':1, 'b':2, 'c':3}\n",
    "print(d.get('a'))\n"
   ]
  },
  {
   "cell_type": "code",
   "execution_count": 6,
   "id": "e98fb860",
   "metadata": {},
   "outputs": [
    {
     "name": "stdout",
     "output_type": "stream",
     "text": [
      "dict_keys([1, 2, 3])\n"
     ]
    }
   ],
   "source": [
    "# Keys - it returns the list of all keys in dictionary.\n",
    "d = {1:'a', 2:'b', 3:'c'}\n",
    "print(d.keys())"
   ]
  },
  {
   "cell_type": "code",
   "execution_count": 1,
   "id": "59e219d9",
   "metadata": {},
   "outputs": [
    {
     "name": "stdout",
     "output_type": "stream",
     "text": [
      "{1: 'a', 3: 'c'}\n"
     ]
    }
   ],
   "source": [
    "# Pop - It removes the element with specified key.\n",
    "\n",
    "d= {1:'a', 2:'b', 3:'c' }\n",
    "d.pop(2)\n",
    "print(d)"
   ]
  },
  {
   "cell_type": "code",
   "execution_count": 2,
   "id": "1a16c5ad",
   "metadata": {},
   "outputs": [
    {
     "name": "stdout",
     "output_type": "stream",
     "text": [
      "{1: 'a', 2: 'b'}\n"
     ]
    }
   ],
   "source": [
    "# Popitem - It removes the last inserted key-value pair from the dictionary.\n",
    "d = {1:'a', 2:'b', 3:'c'}\n",
    "d.popitem()\n",
    "print(d)"
   ]
  },
  {
   "cell_type": "code",
   "execution_count": 5,
   "id": "d034d061",
   "metadata": {},
   "outputs": [
    {
     "name": "stdout",
     "output_type": "stream",
     "text": [
      "[1, 2, 3]\n"
     ]
    }
   ],
   "source": [
    "# Sort - It sorts the dictionary based on keys.\n",
    "d= {2:'b', 3:'c', 1:'a'}\n",
    "print(sorted(d))\n"
   ]
  },
  {
   "cell_type": "code",
   "execution_count": 9,
   "id": "03bbaeb9",
   "metadata": {},
   "outputs": [
    {
     "name": "stdout",
     "output_type": "stream",
     "text": [
      "dict_keys([1, 2, 3])\n",
      "dict_values(['a', 'b', 'c'])\n"
     ]
    }
   ],
   "source": [
    "# Get the keys\n",
    "d = {1:'a', 2:'b', 3:'c'}\n",
    "print(d.keys())\n",
    "print(d.values())"
   ]
  },
  {
   "cell_type": "code",
   "execution_count": 10,
   "id": "682aeb96",
   "metadata": {},
   "outputs": [
    {
     "name": "stdout",
     "output_type": "stream",
     "text": [
      "{1: 'a', 2: 'b', 3: 'c'}\n"
     ]
    }
   ],
   "source": [
    "# Update - It updates the value based on keys.\n",
    "d = {1:'a', 2:'b', 3:'f'}\n",
    "d.update({3:'c'})\n",
    "print(d)"
   ]
  },
  {
   "cell_type": "code",
   "execution_count": 6,
   "id": "4ebca6fa",
   "metadata": {},
   "outputs": [
    {
     "name": "stdout",
     "output_type": "stream",
     "text": [
      "Value:  a\n",
      "Value:  b\n",
      "Value:  c\n",
      "Key-Value Pair:  1 a\n",
      "Key-Value Pair:  2 b\n",
      "Key-Value Pair:  3 c\n"
     ]
    }
   ],
   "source": [
    "# For Loop for printing all the values and key-value pair.\n",
    "d= {1:'a', 2:'b', 3:'c'}\n",
    "\n",
    "#print the values\n",
    "for x in d:\n",
    "    print(\"Value: \", d[x])\n",
    "\n",
    "#print the key-value pair\n",
    "for x,y in d.items(): \n",
    "    print(\"Key-Value Pair: \", x,y)"
   ]
  },
  {
   "cell_type": "code",
   "execution_count": 9,
   "id": "7915c6d2",
   "metadata": {},
   "outputs": [
    {
     "name": "stdout",
     "output_type": "stream",
     "text": [
      "{1: 'a', 2: 'b', 3: 'c'}\n"
     ]
    }
   ],
   "source": [
    "# Copy - It copies the value-key pairs of existing dictionary.\n",
    "d = {1:'a', 2:'b', 3:'c'}\n",
    "d2 = d.copy()\n",
    "print(d2)"
   ]
  },
  {
   "cell_type": "code",
   "execution_count": 10,
   "id": "2fac5ab4",
   "metadata": {},
   "outputs": [
    {
     "name": "stdout",
     "output_type": "stream",
     "text": [
      "{}\n"
     ]
    }
   ],
   "source": [
    "# Clear - Clear method deletes all the key-value pairs.\n",
    "d = {1:'a', 2:'b'}\n",
    "d.clear()\n",
    "print(d)"
   ]
  }
 ],
 "metadata": {
  "kernelspec": {
   "display_name": "Python 3 (ipykernel)",
   "language": "python",
   "name": "python3"
  },
  "language_info": {
   "codemirror_mode": {
    "name": "ipython",
    "version": 3
   },
   "file_extension": ".py",
   "mimetype": "text/x-python",
   "name": "python",
   "nbconvert_exporter": "python",
   "pygments_lexer": "ipython3",
   "version": "3.11.6"
  }
 },
 "nbformat": 4,
 "nbformat_minor": 5
}
