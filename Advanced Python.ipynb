{
 "cells": [
  {
   "cell_type": "markdown",
   "id": "1d1772fa",
   "metadata": {},
   "source": [
    "# List in Python\n",
    "#### A List is can be defined as the collection of objects, values or items of different types and these collections are enclosed within square brackets[] and separated by commas(,). Index starts from 0 in Lists.\n",
    "#### Example: List1 = [1, Adam, 103, USA]\n",
    "## Characteristics of List\n",
    "#### - Lists are ordered.\n",
    "#### - Lists can store various types of elements.\n",
    "#### - Elements of list can be accessed by the index value.\n",
    "#### - Lists are muteable.\n",
    "#### - Lists allow duplicate elements."
   ]
  },
  {
   "cell_type": "markdown",
   "id": "807911a1",
   "metadata": {},
   "source": [
    "## Methods of List"
   ]
  },
  {
   "cell_type": "code",
   "execution_count": 27,
   "id": "0ecd82ed",
   "metadata": {},
   "outputs": [
    {
     "name": "stdout",
     "output_type": "stream",
     "text": [
      "Output of append method:  [1, 2, 3, 4, 5, 2]\n"
     ]
    }
   ],
   "source": [
    "List1 = [1,2,3,4,5]\n",
    "List2 = [6,7,8,9]\n",
    "\n",
    "#Append - It adds the element at the end of the list.\n",
    "# List1.append(element)\n",
    "List1.append(2)\n",
    "print(\"Output of append method: \" , List1)"
   ]
  },
  {
   "cell_type": "code",
   "execution_count": 28,
   "id": "14e3629a",
   "metadata": {},
   "outputs": [
    {
     "name": "stdout",
     "output_type": "stream",
     "text": [
      "Output of insert method:  [1, 2, 3, 4, 10, 5, 2]\n"
     ]
    }
   ],
   "source": [
    "#Insert - It adds the element at the specified location.\n",
    "# List1.insert(index, element)\n",
    "List1.insert(4,10)\n",
    "print(\"Output of insert method: \" , List1)"
   ]
  },
  {
   "cell_type": "code",
   "execution_count": 29,
   "id": "a560f7e3",
   "metadata": {},
   "outputs": [
    {
     "name": "stdout",
     "output_type": "stream",
     "text": [
      "Output of extend method:  [1, 2, 3, 4, 10, 5, 2, 6, 7, 8, 9]\n"
     ]
    }
   ],
   "source": [
    "#Extend - It extends another list at the end of a list.\n",
    "# List1.extend(List2)\n",
    "List1.extend(List2)\n",
    "print(\"Output of extend method: \" , List1)"
   ]
  },
  {
   "cell_type": "code",
   "execution_count": 30,
   "id": "cc1a6d25",
   "metadata": {},
   "outputs": [
    {
     "name": "stdout",
     "output_type": "stream",
     "text": [
      "Output of index method:  4\n"
     ]
    }
   ],
   "source": [
    "#Index - It extends another list at the end of a list.\n",
    "# List1.index(element)\n",
    "x= List1.index(10)\n",
    "print(\"Output of index method: \" , x)"
   ]
  },
  {
   "cell_type": "code",
   "execution_count": 31,
   "id": "aba76654",
   "metadata": {},
   "outputs": [
    {
     "name": "stdout",
     "output_type": "stream",
     "text": [
      "Output of remove method:  [1, 2, 3, 4, 5, 2, 6, 7, 8, 9]\n"
     ]
    }
   ],
   "source": [
    "#Remove -  It removes the element from the list.\n",
    "# List1.index(element)\n",
    "List1.remove(10)\n",
    "print(\"Output of remove method: \" , List1)"
   ]
  },
  {
   "cell_type": "code",
   "execution_count": 32,
   "id": "c191849a",
   "metadata": {},
   "outputs": [
    {
     "name": "stdout",
     "output_type": "stream",
     "text": [
      "Output of sort method:  [1, 2, 2, 3, 4, 5, 6, 7, 8, 9]\n"
     ]
    }
   ],
   "source": [
    "#Sort -  It sorts the elements of the list in ascending order.\n",
    "# List1.sort()\n",
    "List1.sort()\n",
    "print(\"Output of sort method: \" , List1)"
   ]
  },
  {
   "cell_type": "code",
   "execution_count": 33,
   "id": "4241eefb",
   "metadata": {},
   "outputs": [
    {
     "name": "stdout",
     "output_type": "stream",
     "text": [
      "Output of reverse method:  [9, 8, 7, 6, 5, 4, 3, 2, 2, 1]\n"
     ]
    }
   ],
   "source": [
    "#Reverse -  It reverses the order of the list.\n",
    "# List1.reverse()\n",
    "List1.reverse()\n",
    "print(\"Output of reverse method: \" , List1)"
   ]
  },
  {
   "cell_type": "code",
   "execution_count": 34,
   "id": "e7ddf575",
   "metadata": {},
   "outputs": [
    {
     "name": "stdout",
     "output_type": "stream",
     "text": [
      "Output:  4\n"
     ]
    }
   ],
   "source": [
    "#Access element of list in a list\n",
    "List3 = ['apple', 'banana', [2, 4, 5], 'orange']\n",
    "# List3[Location in Parent List][Location is Child List]\n",
    "print(\"Output: \", List3[2][1])"
   ]
  },
  {
   "cell_type": "code",
   "execution_count": 35,
   "id": "9b865ab4",
   "metadata": {},
   "outputs": [
    {
     "name": "stdout",
     "output_type": "stream",
     "text": [
      "Element at Location -1:  orange\n"
     ]
    }
   ],
   "source": [
    "#Reverse Indexing of element - Reverse indexing starts from -1 from right side.\n",
    "print(\"Element at Location -1: \", List3[-1])"
   ]
  },
  {
   "cell_type": "code",
   "execution_count": 36,
   "id": "eaf759f8",
   "metadata": {},
   "outputs": [
    {
     "name": "stdout",
     "output_type": "stream",
     "text": [
      "Elements from index 1 to 3:  ['banana', [2, 4, 5]]\n"
     ]
    }
   ],
   "source": [
    "#Slicing Operater in List - it returns all the elements from index x1 to xn but not xn.\n",
    "# List3[x1:xn]\n",
    "print(\"Elements from index 1 to 3: \", List3[1:3])"
   ]
  },
  {
   "cell_type": "code",
   "execution_count": 37,
   "id": "ba00716a",
   "metadata": {},
   "outputs": [
    {
     "name": "stdout",
     "output_type": "stream",
     "text": [
      "Delete element at index 2 from the list:  [1, 2]\n"
     ]
    }
   ],
   "source": [
    "# Delete element from the list\n",
    "List = [1, 2, \"apple\"]\n",
    "# del List[index]\n",
    "del List[2]\n",
    "print(\"Delete element at index 2 from the list: \", List)"
   ]
  },
  {
   "cell_type": "code",
   "execution_count": 38,
   "id": "1e09b6f7",
   "metadata": {},
   "outputs": [
    {
     "name": "stdout",
     "output_type": "stream",
     "text": [
      "[1, 2]\n"
     ]
    }
   ],
   "source": [
    "# Pop - Pop also removes element from the list.\n",
    "List = [1,2,3]\n",
    "# List.pop(index)\n",
    "List.pop(2)\n",
    "print(List)"
   ]
  },
  {
   "cell_type": "code",
   "execution_count": 39,
   "id": "a9752243",
   "metadata": {},
   "outputs": [
    {
     "name": "stdout",
     "output_type": "stream",
     "text": [
      "[]\n"
     ]
    }
   ],
   "source": [
    "# Clear - Clear removes all the elements from the list.\n",
    "List = [1, 2, 3, 4]\n",
    "List.clear()\n",
    "print(List)"
   ]
  },
  {
   "cell_type": "code",
   "execution_count": 40,
   "id": "89c03dc6",
   "metadata": {},
   "outputs": [
    {
     "name": "stdout",
     "output_type": "stream",
     "text": [
      "3\n"
     ]
    }
   ],
   "source": [
    "# Count - it tells the number of occurrences in the list.\n",
    "List = [1,2,3,4,5,5,5]\n",
    "print(List.count(5))"
   ]
  },
  {
   "cell_type": "markdown",
   "id": "5fa1f7a6",
   "metadata": {},
   "source": [
    "# Tuple\n",
    "#### A tuple is defined as the collection of values, objects or items of different types and these collections are enclosed within circle brackets() and separated by (,). \n",
    "#### Example: tup1 = (1,'richard', 33, 'UK')\n",
    "\n",
    "#### Tuple forward starts with 0 and reverse index starts with -1.\n",
    "\n",
    "## Characteristics of Tuple\n",
    "#### - Tuple are ordered.\n",
    "#### - Tuple can store various types of elements.\n",
    "#### - Elements of tuple can be accessed by the index value.\n",
    "#### - Tuples are immuteable.\n",
    "#### - Tuple allows duplicate elements.\n"
   ]
  },
  {
   "cell_type": "markdown",
   "id": "8a0c56c7",
   "metadata": {},
   "source": [
    "## Methods in Tuple"
   ]
  },
  {
   "cell_type": "code",
   "execution_count": 41,
   "id": "eef6d3f1",
   "metadata": {},
   "outputs": [
    {
     "name": "stdout",
     "output_type": "stream",
     "text": [
      "2\n"
     ]
    }
   ],
   "source": [
    "# Index - it tells the index of the element\n",
    "# tup.index(element)\n",
    "tup = (1,2,3,4)\n",
    "print(tup.index(3))"
   ]
  },
  {
   "cell_type": "code",
   "execution_count": 42,
   "id": "4eedd39a",
   "metadata": {},
   "outputs": [
    {
     "name": "stdout",
     "output_type": "stream",
     "text": [
      "Elements from index 1 to 3:  (2, 3)\n"
     ]
    }
   ],
   "source": [
    "#Slicing Operater in Tuple - it returns all the elements from index x1 to xn but not xn.\n",
    "# tup(x1:xn)\n",
    "print(\"Elements from index 1 to 3: \", tup[1:3])"
   ]
  },
  {
   "cell_type": "code",
   "execution_count": 43,
   "id": "1f3b09d7",
   "metadata": {},
   "outputs": [
    {
     "name": "stdout",
     "output_type": "stream",
     "text": [
      "Concatenation:  (1, 2, 3, 4, 5, 6, 7, 8)\n"
     ]
    }
   ],
   "source": [
    "# Concatenation - It adds two tuples.\n",
    "tup1 = (1,2,3,4)\n",
    "tup2 = (5,6,7,8)\n",
    "print(\"Concatenation: \", tup1 + tup2)"
   ]
  },
  {
   "cell_type": "code",
   "execution_count": 44,
   "id": "24c28fcb",
   "metadata": {},
   "outputs": [
    {
     "name": "stdout",
     "output_type": "stream",
     "text": [
      "Repetition:  (1, 2, 3, 1, 2, 3, 1, 2, 3)\n"
     ]
    }
   ],
   "source": [
    "# Repetition - It is the multiplication of the tuple with x number.\n",
    "tup = (1,2,3)\n",
    "print(\"Repetition: \", tup*3)"
   ]
  },
  {
   "cell_type": "code",
   "execution_count": 48,
   "id": "af33c1a8",
   "metadata": {},
   "outputs": [
    {
     "name": "stdout",
     "output_type": "stream",
     "text": [
      "1\n",
      "2\n",
      "3\n",
      "4\n",
      "5\n"
     ]
    }
   ],
   "source": [
    "# for loop in tuple\n",
    "tup = (1,2,3,4,5)\n",
    "for x in tup:\n",
    "    print(x)"
   ]
  },
  {
   "cell_type": "markdown",
   "id": "7d800a22",
   "metadata": {},
   "source": [
    "# Dictionaries \n",
    "#### Python Dictionary is defined as the collection of objects, values or items of different types stored in key-value pair format. These multiple key-value pairs created are enclosed within braces{} and each key is separated from its value by colon(:).\n",
    "#### Example: Dict1 = {'a': 1, 'b': 2, 'c': 3}\n",
    "\n",
    "## Characteristics of Dictionaries\n",
    "#### - Distionaries are ordered from python 3.7.\n",
    "#### - Elements of dictionaries cannot be accessed by index.\n",
    "#### - Dictinaries can store different types of elements.\n",
    "#### - Dictionaries are mutable.\n",
    "#### - Dictionaries doesn't allow duplicate elements.\n",
    "\n"
   ]
  },
  {
   "cell_type": "markdown",
   "id": "29ebd069",
   "metadata": {},
   "source": [
    "## Methods in Dictionaries"
   ]
  },
  {
   "cell_type": "code",
   "execution_count": 2,
   "id": "7221d00f",
   "metadata": {},
   "outputs": [
    {
     "name": "stdout",
     "output_type": "stream",
     "text": [
      "{'a': 1, 'b': 2, 'c': 3}\n",
      "None\n"
     ]
    }
   ],
   "source": [
    "# Clear - It deletes all the elements of dictionary.\n",
    "# d.clear()\n",
    "d = {'a':1, 'b':2, 'c':3}\n",
    "print(d.clear())\n"
   ]
  },
  {
   "cell_type": "code",
   "execution_count": 4,
   "id": "a1e299af",
   "metadata": {},
   "outputs": [
    {
     "name": "stdout",
     "output_type": "stream",
     "text": [
      "1\n"
     ]
    }
   ],
   "source": [
    "# Get - get method is used to access the element by value.\n",
    "# d.get(keyname)\n",
    "d = {'a':1, 'b':2, 'c':3}\n",
    "print(d.get('a'))\n"
   ]
  },
  {
   "cell_type": "code",
   "execution_count": 6,
   "id": "e98fb860",
   "metadata": {},
   "outputs": [
    {
     "name": "stdout",
     "output_type": "stream",
     "text": [
      "dict_keys([1, 2, 3])\n"
     ]
    }
   ],
   "source": [
    "# Keys - it returns the list of all keys in dictionary.\n",
    "d = {1:'a', 2:'b', 3:'c'}\n",
    "print(d.keys())"
   ]
  },
  {
   "cell_type": "code",
   "execution_count": 1,
   "id": "59e219d9",
   "metadata": {},
   "outputs": [
    {
     "name": "stdout",
     "output_type": "stream",
     "text": [
      "{1: 'a', 3: 'c'}\n"
     ]
    }
   ],
   "source": [
    "# Pop - It removes the element with specified key.\n",
    "\n",
    "d= {1:'a', 2:'b', 3:'c' }\n",
    "d.pop(2)\n",
    "print(d)"
   ]
  },
  {
   "cell_type": "code",
   "execution_count": 2,
   "id": "1a16c5ad",
   "metadata": {},
   "outputs": [
    {
     "name": "stdout",
     "output_type": "stream",
     "text": [
      "{1: 'a', 2: 'b'}\n"
     ]
    }
   ],
   "source": [
    "# Popitem - It removes the last inserted key-value pair from the dictionary.\n",
    "d = {1:'a', 2:'b', 3:'c'}\n",
    "d.popitem()\n",
    "print(d)"
   ]
  },
  {
   "cell_type": "code",
   "execution_count": 5,
   "id": "d034d061",
   "metadata": {},
   "outputs": [
    {
     "name": "stdout",
     "output_type": "stream",
     "text": [
      "[1, 2, 3]\n"
     ]
    }
   ],
   "source": [
    "# Sort - It sorts the dictionary based on keys.\n",
    "d= {2:'b', 3:'c', 1:'a'}\n",
    "print(sorted(d))\n"
   ]
  },
  {
   "cell_type": "code",
   "execution_count": 9,
   "id": "03bbaeb9",
   "metadata": {},
   "outputs": [
    {
     "name": "stdout",
     "output_type": "stream",
     "text": [
      "dict_keys([1, 2, 3])\n",
      "dict_values(['a', 'b', 'c'])\n"
     ]
    }
   ],
   "source": [
    "# Get the keys\n",
    "d = {1:'a', 2:'b', 3:'c'}\n",
    "print(d.keys())\n",
    "print(d.values())"
   ]
  },
  {
   "cell_type": "code",
   "execution_count": 10,
   "id": "682aeb96",
   "metadata": {},
   "outputs": [
    {
     "name": "stdout",
     "output_type": "stream",
     "text": [
      "{1: 'a', 2: 'b', 3: 'c'}\n"
     ]
    }
   ],
   "source": [
    "# Update - It updates the value based on keys.\n",
    "d = {1:'a', 2:'b', 3:'f'}\n",
    "d.update({3:'c'})\n",
    "print(d)"
   ]
  },
  {
   "cell_type": "code",
   "execution_count": 6,
   "id": "4ebca6fa",
   "metadata": {},
   "outputs": [
    {
     "name": "stdout",
     "output_type": "stream",
     "text": [
      "Value:  a\n",
      "Value:  b\n",
      "Value:  c\n",
      "Key-Value Pair:  1 a\n",
      "Key-Value Pair:  2 b\n",
      "Key-Value Pair:  3 c\n"
     ]
    }
   ],
   "source": [
    "# For Loop for printing all the values and key-value pair.\n",
    "d= {1:'a', 2:'b', 3:'c'}\n",
    "\n",
    "#print the values\n",
    "for x in d:\n",
    "    print(\"Value: \", d[x])\n",
    "\n",
    "#print the key-value pair\n",
    "for x,y in d.items(): \n",
    "    print(\"Key-Value Pair: \", x,y)"
   ]
  },
  {
   "cell_type": "markdown",
   "id": "29cb5f96",
   "metadata": {},
   "source": []
  },
  {
   "cell_type": "code",
   "execution_count": 9,
   "id": "7915c6d2",
   "metadata": {},
   "outputs": [
    {
     "name": "stdout",
     "output_type": "stream",
     "text": [
      "{1: 'a', 2: 'b', 3: 'c'}\n"
     ]
    }
   ],
   "source": [
    "# Copy - It copies the value-key pairs of existing dictionary.\n",
    "d = {1:'a', 2:'b', 3:'c'}\n",
    "d2 = d.copy()\n",
    "print(d2)"
   ]
  },
  {
   "cell_type": "code",
   "execution_count": 10,
   "id": "2fac5ab4",
   "metadata": {},
   "outputs": [
    {
     "name": "stdout",
     "output_type": "stream",
     "text": [
      "{}\n"
     ]
    }
   ],
   "source": [
    "# Clear - Clear method deletes all the key-value pairs.\n",
    "d = {1:'a', 2:'b'}\n",
    "d.clear()\n",
    "print(d)"
   ]
  },
  {
   "cell_type": "markdown",
   "id": "6730749a",
   "metadata": {},
   "source": [
    "# Python Looping Techniques"
   ]
  },
  {
   "cell_type": "code",
   "execution_count": 4,
   "id": "26899330",
   "metadata": {},
   "outputs": [
    {
     "name": "stdout",
     "output_type": "stream",
     "text": [
      "11\n",
      "12\n",
      "23\n",
      "33\n",
      "35\n",
      "54\n"
     ]
    }
   ],
   "source": [
    "# Sorted() method in for loop\n",
    "l = [54, 33, 23, 12, 35, 11]\n",
    "for i in sorted(l):\n",
    "    print(i)\n"
   ]
  },
  {
   "cell_type": "code",
   "execution_count": 8,
   "id": "3b986956",
   "metadata": {},
   "outputs": [
    {
     "name": "stdout",
     "output_type": "stream",
     "text": [
      "Salah\n",
      "Ronaldo\n",
      "Naymar\n",
      "Messi\n"
     ]
    }
   ],
   "source": [
    "# Sorted() method in for loop in descending order\n",
    "footballers = [\"Ronaldo\", \"Messi\", \"Salah\", \"Naymar\"]\n",
    "for i in sorted(footballers, reverse=True):\n",
    "    print(i)"
   ]
  },
  {
   "cell_type": "code",
   "execution_count": 9,
   "id": "6f525cff",
   "metadata": {},
   "outputs": [
    {
     "name": "stdout",
     "output_type": "stream",
     "text": [
      "(1, 'a')\n",
      "(2, 'b')\n",
      "(3, 'c')\n",
      "(4, 'd')\n"
     ]
    }
   ],
   "source": [
    "# Sorting a Dictionary in ascending order for keys.\n",
    "d = {1: 'a', 2: 'b', 3: 'c', 4: 'd'}\n",
    "for i in sorted(d.items()):\n",
    "    print(i)"
   ]
  },
  {
   "cell_type": "code",
   "execution_count": 17,
   "id": "625f7fd6",
   "metadata": {},
   "outputs": [
    {
     "name": "stdout",
     "output_type": "stream",
     "text": [
      "(4, 'd')\n",
      "(3, 'c')\n",
      "(2, 'b')\n",
      "(1, 'a')\n"
     ]
    }
   ],
   "source": [
    "# Sorting a Dictionary in descending order for keys.\n",
    "d = {1: 'a', 2: 'b', 3: 'c', 4: 'd'}\n",
    "for i in sorted(d.items(), reverse = True):\n",
    "    print(i)"
   ]
  },
  {
   "cell_type": "code",
   "execution_count": 14,
   "metadata": {},
   "outputs": [
    {
     "name": "stdout",
     "output_type": "stream",
     "text": [
      "a\n",
      "b\n",
      "c\n",
      "d\n"
     ]
    }
   ],
   "source": [
    "# Sorting a Dictionary in ascending order for values.\n",
    "d = {1: 'a', 2: 'b', 3: 'c', 4: 'd'}\n",
    "for i in sorted(d.values()):\n",
    "    print(i)"
   ]
  },
  {
   "cell_type": "code",
   "execution_count": 18,
   "id": "1bbf056d",
   "metadata": {},
   "outputs": [
    {
     "name": "stdout",
     "output_type": "stream",
     "text": [
      "44\n",
      "33\n",
      "2\n",
      "43\n",
      "23\n",
      "3\n"
     ]
    }
   ],
   "source": [
    "# Reversed() method in for loop\n",
    "l = [3, 23, 43, 2, 33, 44]\n",
    "for i in reversed(l):\n",
    "    print(i)"
   ]
  },
  {
   "cell_type": "code",
   "execution_count": 21,
   "id": "17db3d43",
   "metadata": {},
   "outputs": [
    {
     "name": "stdout",
     "output_type": "stream",
     "text": [
      "{'name': 'Ronaldo', 'age': 37}\n",
      "{'name': 'Naymar', 'age': 35}\n"
     ]
    }
   ],
   "source": [
    "# Filter() function in loop using anonymouse function lambda.\n",
    "Players = [{\"name\": \"Messi\", \"age\": 36}, {\"name\":\"Ronaldo\", \"age\": 37}, {\"name\": \"Salah\", \"age\": 32}, {\"name\":\"Naymar\", \"age\":35}]\n",
    "for Players in filter(lambda i:i[\"age\"]%2 != 0, Players):\n",
    "    print(Players)"
   ]
  },
  {
   "cell_type": "code",
   "execution_count": 1,
   "id": "544c9885",
   "metadata": {},
   "outputs": [
    {
     "name": "stdout",
     "output_type": "stream",
     "text": [
      "(0, 'a')\n",
      "(1, 'b')\n",
      "(2, 'c')\n",
      "(3, 'd')\n"
     ]
    }
   ],
   "source": [
    "# enumerate method in for loop\n",
    "for i in enumerate(['a', 'b', 'c', 'd']):\n",
    "    print(i)\n"
   ]
  },
  {
   "cell_type": "code",
   "execution_count": 2,
   "id": "e9592dcd",
   "metadata": {},
   "outputs": [
    {
     "name": "stdout",
     "output_type": "stream",
     "text": [
      "a b c d "
     ]
    }
   ],
   "source": [
    "# enumerate method in for loop\n",
    "for key, value in enumerate(['a', 'b', 'c', 'd']):\n",
    "    print(value, end= ' ')"
   ]
  },
  {
   "cell_type": "code",
   "execution_count": 3,
   "id": "878df64b",
   "metadata": {},
   "outputs": [
    {
     "name": "stdout",
     "output_type": "stream",
     "text": [
      "0 1 2 3 "
     ]
    }
   ],
   "source": [
    "# enumerate method in for loop\n",
    "for key, value in enumerate(['a', 'b', 'c', 'd']):\n",
    "    print(key, end= ' ')"
   ]
  },
  {
   "cell_type": "markdown",
   "id": "75fba077",
   "metadata": {},
   "source": [
    "# Functions in Python"
   ]
  },
  {
   "cell_type": "markdown",
   "id": "4b053eb7",
   "metadata": {},
   "source": [
    "#### A function is a bunch of related statements that are defined to perform a specific task. it helps to avoid repetition in code and makes the code reusable."
   ]
  },
  {
   "cell_type": "markdown",
   "id": "14a8e17d",
   "metadata": {},
   "source": [
    "### Built-In functions\n"
   ]
  },
  {
   "cell_type": "markdown",
   "id": "bb5b3d3f",
   "metadata": {},
   "source": [
    "#### Built-in functions are the pre-defined functions in Python. for example print(), sorted(), range()."
   ]
  },
  {
   "cell_type": "code",
   "execution_count": 14,
   "id": "3c3c5b88",
   "metadata": {},
   "outputs": [
    {
     "name": "stdout",
     "output_type": "stream",
     "text": [
      "[1, 2, 2, 3, 3, 5]\n",
      "9\n",
      "33\n",
      "27\n"
     ]
    }
   ],
   "source": [
    "# Sorted\n",
    "l = [2,3,5,3,2,1]\n",
    "print(sorted(l))\n",
    "\n",
    "# sum\n",
    "print(sum((3,3,3)))\n",
    "\n",
    "# max\n",
    "print(max(2,33,4))\n",
    "\n",
    "# pow\n",
    "print(pow(3,3))\n"
   ]
  },
  {
   "cell_type": "markdown",
   "id": "d67cc3b5",
   "metadata": {},
   "source": [
    "### User-Defined functions"
   ]
  },
  {
   "cell_type": "markdown",
   "id": "d58f6a91",
   "metadata": {},
   "source": [
    "#### User-defined functions are defined by the user to perform specific task."
   ]
  },
  {
   "cell_type": "code",
   "execution_count": 4,
   "id": "5c635437",
   "metadata": {},
   "outputs": [
    {
     "name": "stdout",
     "output_type": "stream",
     "text": [
      "5\n"
     ]
    }
   ],
   "source": [
    "# User-defined function\n",
    "def my_function(a, b):\n",
    "    print(a+b)\n",
    "my_function(2,3)"
   ]
  },
  {
   "cell_type": "code",
   "execution_count": 9,
   "id": "2f091049",
   "metadata": {},
   "outputs": [
    {
     "data": {
      "text/plain": [
       "5"
      ]
     },
     "execution_count": 9,
     "metadata": {},
     "output_type": "execute_result"
    }
   ],
   "source": [
    "def my_function():\n",
    "    a=2\n",
    "    b=3\n",
    "    return a+b\n",
    "my_function()"
   ]
  },
  {
   "cell_type": "code",
   "execution_count": 1,
   "id": "9b8af438",
   "metadata": {},
   "outputs": [
    {
     "data": {
      "text/plain": [
       "'48 Inches'"
      ]
     },
     "execution_count": 1,
     "metadata": {},
     "output_type": "execute_result"
    }
   ],
   "source": [
    "def ft_to_inch(ft):\n",
    "    inches= ft * 12\n",
    "    return str(inches) + \" Inches\"\n",
    "ft_to_inch(4)"
   ]
  },
  {
   "cell_type": "code",
   "execution_count": 34,
   "id": "a31b3c7a",
   "metadata": {},
   "outputs": [
    {
     "data": {
      "text/plain": [
       "120"
      ]
     },
     "execution_count": 34,
     "metadata": {},
     "output_type": "execute_result"
    }
   ],
   "source": [
    "def factorail(x):\n",
    "    if x == 0:\n",
    "        return 1\n",
    "    else: \n",
    "        return x * factorail (x-1)\n",
    "factorail(5)"
   ]
  },
  {
   "cell_type": "code",
   "execution_count": 2,
   "id": "cd5032dd",
   "metadata": {},
   "outputs": [
    {
     "name": "stdout",
     "output_type": "stream",
     "text": [
      "Sum:  5\n",
      "Area:  44\n"
     ]
    }
   ],
   "source": [
    "# compare simple add function with Lambda function\n",
    "# Simple \n",
    "def add(a, b):\n",
    "    print('Sum: ', a + b)\n",
    "add(2,3)\n",
    "\n",
    "# Lambda function - \n",
    "area = lambda l,w: l + w\n",
    "print(\"Area: \", area(33,11))\n"
   ]
  },
  {
   "cell_type": "code",
   "execution_count": 3,
   "id": "7766c628",
   "metadata": {},
   "outputs": [
    {
     "name": "stdout",
     "output_type": "stream",
     "text": [
      "Volume:  27\n"
     ]
    }
   ],
   "source": [
    "# Lambda function - volume\n",
    "volume = lambda l, w, h : l * w * h\n",
    "print(\"Volume: \", volume(l = 3, w = 3, h = 3))"
   ]
  },
  {
   "cell_type": "code",
   "execution_count": 12,
   "id": "01cb587a",
   "metadata": {},
   "outputs": [
    {
     "data": {
      "text/plain": [
       "132"
      ]
     },
     "execution_count": 12,
     "metadata": {},
     "output_type": "execute_result"
    }
   ],
   "source": [
    "# Lambda function - with higher order functions(Higher order functions are the functions where we pass functions as arguments)\n",
    "higher_ord_fun = lambda x, fun: x + fun(x)\n",
    "higher_ord_fun(11, lambda x : x*x)\n"
   ]
  },
  {
   "cell_type": "code",
   "execution_count": 3,
   "id": "f97cedbf",
   "metadata": {},
   "outputs": [
    {
     "name": "stdout",
     "output_type": "stream",
     "text": [
      "Sum:  12\n",
      "Product:  48\n"
     ]
    }
   ],
   "source": [
    "# Reduce function from functools - It does operations on the elements of the list.\n",
    "from functools import reduce\n",
    "l = [2, 3, 4, 2, 1]\n",
    "sum = reduce(lambda x, y : x+y, l)\n",
    "print(\"Sum: \", sum)\n",
    "\n",
    "product = reduce(lambda x, y : x*y, l)\n",
    "print(\"Product: \", product)\n"
   ]
  },
  {
   "cell_type": "code",
   "execution_count": 4,
   "id": "06877192",
   "metadata": {},
   "outputs": [
    {
     "data": {
      "text/plain": [
       "9"
      ]
     },
     "execution_count": 4,
     "metadata": {},
     "output_type": "execute_result"
    }
   ],
   "source": [
    "# Function for solving quadratic equaion(ax^2 + bx + c)\n",
    "def quadratic(a, b, c):\n",
    "    return lambda x : a*x**2 + b*x + c\n",
    "f = quadratic(2, 3, 4)  # (a =  2, b = 3, c = 4)\n",
    "f(1)    # (x = 1)"
   ]
  },
  {
   "cell_type": "markdown",
   "id": "8e787e41",
   "metadata": {},
   "source": [
    "# Object Oriented Programming in python"
   ]
  },
  {
   "cell_type": "markdown",
   "id": "4ef9f2b4",
   "metadata": {},
   "source": [
    "#### Python is an object oriented programming language like other general purpose programming languages. the concept of Object-Oriented Programming (OOP) in python focuses on creating 'objects' and making reusable codes.\n",
    "\n",
    "#### Major Principles of Object-Oriented Programming.\n",
    "#### 1 - Class\n",
    "#### 2 - Object\n",
    "#### 3 - Method\n",
    "#### 4 - Inheritance\n",
    "#### 5 - Polymorphism\n",
    "#### 6 - Encapsulation\n",
    "#### 7 - Abstraction"
   ]
  },
  {
   "cell_type": "markdown",
   "id": "bd5a56e4",
   "metadata": {},
   "source": [
    "# Class"
   ]
  },
  {
   "cell_type": "markdown",
   "id": "3b2b5fa1",
   "metadata": {},
   "source": [
    "#### A Class is a code template or a constructor that is used to create python objects. for example, A classroom might a class and teachers, students, desks are the objects or attributes of the class. In python, a class is created by using keyword class followed by the name of the class."
   ]
  },
  {
   "cell_type": "code",
   "execution_count": 10,
   "id": "c85dd5ce",
   "metadata": {},
   "outputs": [
    {
     "name": "stdout",
     "output_type": "stream",
     "text": [
      "2 Luois\n"
     ]
    }
   ],
   "source": [
    "# Class Example\n",
    "class student: \n",
    "    id = 2\n",
    "    name = \"Luois\"\n",
    "    def display(self):\n",
    "        print(self.id, self.name)\n",
    "obj = student()\n",
    "obj.display()\n",
    "    "
   ]
  },
  {
   "cell_type": "code",
   "execution_count": 1,
   "id": "bb8513f5",
   "metadata": {},
   "outputs": [
    {
     "name": "stdout",
     "output_type": "stream",
     "text": [
      "100\n"
     ]
    }
   ],
   "source": [
    "class NewClass:\n",
    "    x = 100\n",
    "# class object\n",
    "r = NewClass()\n",
    "print(r.x)"
   ]
  },
  {
   "cell_type": "code",
   "execution_count": 3,
   "id": "b4031e5d",
   "metadata": {},
   "outputs": [
    {
     "name": "stdout",
     "output_type": "stream",
     "text": [
      "Harry\n",
      "David\n"
     ]
    }
   ],
   "source": [
    "# __init__() function in class - All classes have a built-in function that is executed when the class is being initiated. It is used to assign values to object properties.\n",
    "\n",
    "class student: \n",
    "    def __init__(self, name, age):\n",
    "        self.name = name\n",
    "        self.age = age\n",
    "object = student(\"Harry\", 23)\n",
    "print(object.name)\n",
    "# modify object\n",
    "object.name = \"David\"\n",
    "print(object.name)\n",
    "\n"
   ]
  },
  {
   "cell_type": "code",
   "execution_count": null,
   "id": "e5a8fd55",
   "metadata": {},
   "outputs": [],
   "source": [
    "# Delete Objects - Objects of the class can be deleted by using del keyword.\n",
    "# del object\n"
   ]
  },
  {
   "cell_type": "code",
   "execution_count": 4,
   "id": "8e29c85e",
   "metadata": {},
   "outputs": [
    {
     "name": "stdout",
     "output_type": "stream",
     "text": [
      "Hi, I am  Lion\n"
     ]
    }
   ],
   "source": [
    "# Passing object attributes between different method of the class\n",
    "class Animal:\n",
    "    def __init__(self,name):\n",
    "        self.name = name\n",
    "     \n",
    "    def greet(self):\n",
    "        print(\"Hi, I am \", self.name)\n",
    "\n",
    "object = Animal('Lion')\n",
    "object.greet();"
   ]
  },
  {
   "cell_type": "markdown",
   "id": "897440e6",
   "metadata": {},
   "source": [
    "# Object"
   ]
  },
  {
   "cell_type": "markdown",
   "id": "d9dde61d",
   "metadata": {},
   "source": [
    "#### An object is known as instatioation of a class. It is a group of interrelated variables and methods. when a class is defined, only description for the object is defined. Therefore, no memory or storage is allocated at that point."
   ]
  },
  {
   "cell_type": "code",
   "execution_count": null,
   "id": "46682aa3",
   "metadata": {},
   "outputs": [],
   "source": [
    "# Object Example\n",
    "class student: \n",
    "    id = 2\n",
    "    name = \"Luois\"\n",
    "    def display(self):\n",
    "        print(self.id, self.name)\n",
    "object = student()\n",
    "object.display()"
   ]
  },
  {
   "cell_type": "markdown",
   "id": "70fa2c5f",
   "metadata": {},
   "source": [
    "# Methods"
   ]
  },
  {
   "cell_type": "markdown",
   "id": "3b8649a6",
   "metadata": {},
   "source": [
    "#### Methods are functions that are defined inside the body of a class. It is a function that is associated with an object. methods define the behavior of an object."
   ]
  },
  {
   "cell_type": "code",
   "execution_count": null,
   "id": "0b51eb30",
   "metadata": {},
   "outputs": [],
   "source": [
    "# Example\n",
    "class Cars:\n",
    "    def __init__(self, brandname, year):\n",
    "        self.brandname = brandname\n",
    "        self.year = year"
   ]
  },
  {
   "cell_type": "markdown",
   "id": "b4979ce8",
   "metadata": {},
   "source": [
    "# Inheritance"
   ]
  },
  {
   "cell_type": "markdown",
   "id": "5f703f96",
   "metadata": {},
   "source": [
    "#### Inheritance is creating a new class that uses all the properties and behavior of another class. The new class formed is called Derived class or child class. and the existing class whose properties are inherited is called base class or parent class. It provides the reusablity of code.\n",
    "\n",
    "### Types of inheritance\n",
    "#### Single level inheritance - only one child class is inheriting the attributes of parent class.\n",
    "#### Multi level Inheritance - Each parent class has only one child class.\n",
    "#### Hierarchical Inheritance - One Parent class has multiple child classes.\n",
    "#### Multiple Inheritance - to parent classes has one child class."
   ]
  },
  {
   "cell_type": "markdown",
   "id": "d6255ff7",
   "metadata": {},
   "source": [
    "# Polymarphism\n"
   ]
  },
  {
   "cell_type": "markdown",
   "id": "b17fd6bf",
   "metadata": {},
   "source": [
    "#### Polymarphism consists of two words, \"Poly\" and \"Marphs\". Poly means many, and marphs mean shapes. It means using a fimiliar interface for multiple forms(data types). In simple words, we understand that a task can be performed in various ways.\n",
    "#### + operator is used for interger data types to perform arithmeti addition operations, whereas for string data types, + operator is used to perform concatenation. This is one of the example of Polymarphism in python."
   ]
  }
 ],
 "metadata": {
  "kernelspec": {
   "display_name": "Python 3 (ipykernel)",
   "language": "python",
   "name": "python3"
  },
  "language_info": {
   "codemirror_mode": {
    "name": "ipython",
    "version": 3
   },
   "file_extension": ".py",
   "mimetype": "text/x-python",
   "name": "python",
   "nbconvert_exporter": "python",
   "pygments_lexer": "ipython3",
   "version": "3.11.6"
  }
 },
 "nbformat": 4,
 "nbformat_minor": 5
}
